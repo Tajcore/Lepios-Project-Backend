{
 "cells": [
  {
   "cell_type": "code",
   "execution_count": 20,
   "metadata": {
    "id": "MvH9PKgaa_cD"
   },
   "outputs": [],
   "source": [
    "import csv # Import CSV toolkit"
   ]
  },
  {
   "cell_type": "code",
   "execution_count": 21,
   "metadata": {
    "id": "qP2lOA03aYtj"
   },
   "outputs": [],
   "source": [
    "import numpy as np\n",
    "import pandas as pd \n",
    "import matplotlib.pyplot as plt\n",
    "import seaborn as sns\n",
    "from sklearn.ensemble import RandomForestClassifier\n",
    "from sklearn.model_selection import train_test_split\n",
    "from sklearn.metrics import classification_report, confusion_matrix\n",
    "import joblib"
   ]
  },
  {
   "cell_type": "code",
   "execution_count": 22,
   "metadata": {
    "id": "jh4RIBrDcSqP"
   },
   "outputs": [],
   "source": [
    " df = pd.read_csv('dataset.csv')"
   ]
  },
  {
   "cell_type": "code",
   "execution_count": 23,
   "metadata": {
    "colab": {
     "base_uri": "https://localhost:8080/",
     "height": 313
    },
    "id": "mcaNLD4mcULu",
    "outputId": "41527118-80b7-44b0-c95e-d0bfc8721ec8"
   },
   "outputs": [
    {
     "output_type": "execute_result",
     "data": {
      "text/plain": [
       "            Disease   Symptom_1              Symptom_2              Symptom_3  \\\n",
       "0  Fungal infection     itching              skin_rash   nodal_skin_eruptions   \n",
       "1  Fungal infection   skin_rash   nodal_skin_eruptions    dischromic _patches   \n",
       "2  Fungal infection     itching   nodal_skin_eruptions    dischromic _patches   \n",
       "3  Fungal infection     itching              skin_rash    dischromic _patches   \n",
       "4  Fungal infection     itching              skin_rash   nodal_skin_eruptions   \n",
       "\n",
       "              Symptom_4 Symptom_5 Symptom_6 Symptom_7 Symptom_8 Symptom_9  \\\n",
       "0   dischromic _patches       NaN       NaN       NaN       NaN       NaN   \n",
       "1                   NaN       NaN       NaN       NaN       NaN       NaN   \n",
       "2                   NaN       NaN       NaN       NaN       NaN       NaN   \n",
       "3                   NaN       NaN       NaN       NaN       NaN       NaN   \n",
       "4                   NaN       NaN       NaN       NaN       NaN       NaN   \n",
       "\n",
       "  Symptom_10 Symptom_11 Symptom_12 Symptom_13 Symptom_14 Symptom_15  \\\n",
       "0        NaN        NaN        NaN        NaN        NaN        NaN   \n",
       "1        NaN        NaN        NaN        NaN        NaN        NaN   \n",
       "2        NaN        NaN        NaN        NaN        NaN        NaN   \n",
       "3        NaN        NaN        NaN        NaN        NaN        NaN   \n",
       "4        NaN        NaN        NaN        NaN        NaN        NaN   \n",
       "\n",
       "  Symptom_16 Symptom_17  \n",
       "0        NaN        NaN  \n",
       "1        NaN        NaN  \n",
       "2        NaN        NaN  \n",
       "3        NaN        NaN  \n",
       "4        NaN        NaN  "
      ],
      "text/html": "<div>\n<style scoped>\n    .dataframe tbody tr th:only-of-type {\n        vertical-align: middle;\n    }\n\n    .dataframe tbody tr th {\n        vertical-align: top;\n    }\n\n    .dataframe thead th {\n        text-align: right;\n    }\n</style>\n<table border=\"1\" class=\"dataframe\">\n  <thead>\n    <tr style=\"text-align: right;\">\n      <th></th>\n      <th>Disease</th>\n      <th>Symptom_1</th>\n      <th>Symptom_2</th>\n      <th>Symptom_3</th>\n      <th>Symptom_4</th>\n      <th>Symptom_5</th>\n      <th>Symptom_6</th>\n      <th>Symptom_7</th>\n      <th>Symptom_8</th>\n      <th>Symptom_9</th>\n      <th>Symptom_10</th>\n      <th>Symptom_11</th>\n      <th>Symptom_12</th>\n      <th>Symptom_13</th>\n      <th>Symptom_14</th>\n      <th>Symptom_15</th>\n      <th>Symptom_16</th>\n      <th>Symptom_17</th>\n    </tr>\n  </thead>\n  <tbody>\n    <tr>\n      <th>0</th>\n      <td>Fungal infection</td>\n      <td>itching</td>\n      <td>skin_rash</td>\n      <td>nodal_skin_eruptions</td>\n      <td>dischromic _patches</td>\n      <td>NaN</td>\n      <td>NaN</td>\n      <td>NaN</td>\n      <td>NaN</td>\n      <td>NaN</td>\n      <td>NaN</td>\n      <td>NaN</td>\n      <td>NaN</td>\n      <td>NaN</td>\n      <td>NaN</td>\n      <td>NaN</td>\n      <td>NaN</td>\n      <td>NaN</td>\n    </tr>\n    <tr>\n      <th>1</th>\n      <td>Fungal infection</td>\n      <td>skin_rash</td>\n      <td>nodal_skin_eruptions</td>\n      <td>dischromic _patches</td>\n      <td>NaN</td>\n      <td>NaN</td>\n      <td>NaN</td>\n      <td>NaN</td>\n      <td>NaN</td>\n      <td>NaN</td>\n      <td>NaN</td>\n      <td>NaN</td>\n      <td>NaN</td>\n      <td>NaN</td>\n      <td>NaN</td>\n      <td>NaN</td>\n      <td>NaN</td>\n      <td>NaN</td>\n    </tr>\n    <tr>\n      <th>2</th>\n      <td>Fungal infection</td>\n      <td>itching</td>\n      <td>nodal_skin_eruptions</td>\n      <td>dischromic _patches</td>\n      <td>NaN</td>\n      <td>NaN</td>\n      <td>NaN</td>\n      <td>NaN</td>\n      <td>NaN</td>\n      <td>NaN</td>\n      <td>NaN</td>\n      <td>NaN</td>\n      <td>NaN</td>\n      <td>NaN</td>\n      <td>NaN</td>\n      <td>NaN</td>\n      <td>NaN</td>\n      <td>NaN</td>\n    </tr>\n    <tr>\n      <th>3</th>\n      <td>Fungal infection</td>\n      <td>itching</td>\n      <td>skin_rash</td>\n      <td>dischromic _patches</td>\n      <td>NaN</td>\n      <td>NaN</td>\n      <td>NaN</td>\n      <td>NaN</td>\n      <td>NaN</td>\n      <td>NaN</td>\n      <td>NaN</td>\n      <td>NaN</td>\n      <td>NaN</td>\n      <td>NaN</td>\n      <td>NaN</td>\n      <td>NaN</td>\n      <td>NaN</td>\n      <td>NaN</td>\n    </tr>\n    <tr>\n      <th>4</th>\n      <td>Fungal infection</td>\n      <td>itching</td>\n      <td>skin_rash</td>\n      <td>nodal_skin_eruptions</td>\n      <td>NaN</td>\n      <td>NaN</td>\n      <td>NaN</td>\n      <td>NaN</td>\n      <td>NaN</td>\n      <td>NaN</td>\n      <td>NaN</td>\n      <td>NaN</td>\n      <td>NaN</td>\n      <td>NaN</td>\n      <td>NaN</td>\n      <td>NaN</td>\n      <td>NaN</td>\n      <td>NaN</td>\n    </tr>\n  </tbody>\n</table>\n</div>"
     },
     "metadata": {},
     "execution_count": 23
    }
   ],
   "source": [
    "df.head(5)"
   ]
  },
  {
   "cell_type": "code",
   "execution_count": 24,
   "metadata": {
    "colab": {
     "base_uri": "https://localhost:8080/"
    },
    "id": "jvIeehu-cx_k",
    "outputId": "aac5091c-60ce-449b-fb55-a74eef7c7213"
   },
   "outputs": [
    {
     "output_type": "stream",
     "name": "stdout",
     "text": [
      "['Symptom_1', 'Symptom_2', 'Symptom_3', 'Symptom_4', 'Symptom_5', 'Symptom_6', 'Symptom_7', 'Symptom_8', 'Symptom_9', 'Symptom_10', 'Symptom_11', 'Symptom_12', 'Symptom_13', 'Symptom_14', 'Symptom_15', 'Symptom_16', 'Symptom_17']\n"
     ]
    }
   ],
   "source": [
    "\n",
    "cols = [i for i in df.iloc[:,1:].columns]\n",
    "print(cols)"
   ]
  },
  {
   "cell_type": "code",
   "execution_count": 25,
   "metadata": {
    "colab": {
     "base_uri": "https://localhost:8080/",
     "height": 1000
    },
    "id": "AKZrML4Qc9uQ",
    "outputId": "afb5e80a-6600-4d61-eb48-219191aa4381"
   },
   "outputs": [
    {
     "output_type": "display_data",
     "data": {
      "text/plain": "       index   variable               value  add1\n40000    640  Symptom_9      abdominal_pain     1\n40001    641  Symptom_9      abdominal_pain     1\n40002    642  Symptom_9      abdominal_pain     1\n40003    643  Symptom_9   yellowing_of_eyes     1\n40004    644  Symptom_9   yellowing_of_eyes     1\n40005    645  Symptom_9   yellowing_of_eyes     1\n40006    646  Symptom_9   yellowing_of_eyes     1\n40007    647  Symptom_9   yellowing_of_eyes     1\n40008    648  Symptom_9   yellowing_of_eyes     1\n40009    649  Symptom_9   yellowing_of_eyes     1\n40010    650  Symptom_9                 NaN     1\n40011    651  Symptom_9                 NaN     1\n40012    652  Symptom_9                 NaN     1\n40013    653  Symptom_9                 NaN     1\n40014    654  Symptom_9                 NaN     1\n40015    655  Symptom_9                 NaN     1\n40016    656  Symptom_9                 NaN     1\n40017    657  Symptom_9                 NaN     1\n40018    658  Symptom_9                 NaN     1\n40019    659  Symptom_9                 NaN     1\n40020    660  Symptom_9    loss_of_appetite     1\n40021    661  Symptom_9    loss_of_appetite     1\n40022    662  Symptom_9          mild_fever     1\n40023    663  Symptom_9          mild_fever     1\n40024    664  Symptom_9          mild_fever     1\n40025    665  Symptom_9          mild_fever     1\n40026    666  Symptom_9          mild_fever     1\n40027    667  Symptom_9          mild_fever     1\n40028    668  Symptom_9          mild_fever     1\n40029    669  Symptom_9          mild_fever     1\n40030    670  Symptom_9              phlegm     1\n40031    671  Symptom_9              phlegm     1\n40032    672  Symptom_9   throat_irritation     1\n40033    673  Symptom_9   throat_irritation     1\n40034    674  Symptom_9   throat_irritation     1\n40035    675  Symptom_9   throat_irritation     1\n40036    676  Symptom_9   throat_irritation     1\n40037    677  Symptom_9   throat_irritation     1\n40038    678  Symptom_9   throat_irritation     1\n40039    679  Symptom_9   throat_irritation     1\n40040    680  Symptom_9     fast_heart_rate     1\n40041    681  Symptom_9          chest_pain     1\n40042    682  Symptom_9          chest_pain     1\n40043    683  Symptom_9     fast_heart_rate     1\n40044    684  Symptom_9     fast_heart_rate     1\n40045    685  Symptom_9     fast_heart_rate     1\n40046    686  Symptom_9     fast_heart_rate     1\n40047    687  Symptom_9     fast_heart_rate     1\n40048    688  Symptom_9     fast_heart_rate     1\n40049    689  Symptom_9     fast_heart_rate     1",
      "text/html": "<div>\n<style scoped>\n    .dataframe tbody tr th:only-of-type {\n        vertical-align: middle;\n    }\n\n    .dataframe tbody tr th {\n        vertical-align: top;\n    }\n\n    .dataframe thead th {\n        text-align: right;\n    }\n</style>\n<table border=\"1\" class=\"dataframe\">\n  <thead>\n    <tr style=\"text-align: right;\">\n      <th></th>\n      <th>index</th>\n      <th>variable</th>\n      <th>value</th>\n      <th>add1</th>\n    </tr>\n  </thead>\n  <tbody>\n    <tr>\n      <th>40000</th>\n      <td>640</td>\n      <td>Symptom_9</td>\n      <td>abdominal_pain</td>\n      <td>1</td>\n    </tr>\n    <tr>\n      <th>40001</th>\n      <td>641</td>\n      <td>Symptom_9</td>\n      <td>abdominal_pain</td>\n      <td>1</td>\n    </tr>\n    <tr>\n      <th>40002</th>\n      <td>642</td>\n      <td>Symptom_9</td>\n      <td>abdominal_pain</td>\n      <td>1</td>\n    </tr>\n    <tr>\n      <th>40003</th>\n      <td>643</td>\n      <td>Symptom_9</td>\n      <td>yellowing_of_eyes</td>\n      <td>1</td>\n    </tr>\n    <tr>\n      <th>40004</th>\n      <td>644</td>\n      <td>Symptom_9</td>\n      <td>yellowing_of_eyes</td>\n      <td>1</td>\n    </tr>\n    <tr>\n      <th>40005</th>\n      <td>645</td>\n      <td>Symptom_9</td>\n      <td>yellowing_of_eyes</td>\n      <td>1</td>\n    </tr>\n    <tr>\n      <th>40006</th>\n      <td>646</td>\n      <td>Symptom_9</td>\n      <td>yellowing_of_eyes</td>\n      <td>1</td>\n    </tr>\n    <tr>\n      <th>40007</th>\n      <td>647</td>\n      <td>Symptom_9</td>\n      <td>yellowing_of_eyes</td>\n      <td>1</td>\n    </tr>\n    <tr>\n      <th>40008</th>\n      <td>648</td>\n      <td>Symptom_9</td>\n      <td>yellowing_of_eyes</td>\n      <td>1</td>\n    </tr>\n    <tr>\n      <th>40009</th>\n      <td>649</td>\n      <td>Symptom_9</td>\n      <td>yellowing_of_eyes</td>\n      <td>1</td>\n    </tr>\n    <tr>\n      <th>40010</th>\n      <td>650</td>\n      <td>Symptom_9</td>\n      <td>NaN</td>\n      <td>1</td>\n    </tr>\n    <tr>\n      <th>40011</th>\n      <td>651</td>\n      <td>Symptom_9</td>\n      <td>NaN</td>\n      <td>1</td>\n    </tr>\n    <tr>\n      <th>40012</th>\n      <td>652</td>\n      <td>Symptom_9</td>\n      <td>NaN</td>\n      <td>1</td>\n    </tr>\n    <tr>\n      <th>40013</th>\n      <td>653</td>\n      <td>Symptom_9</td>\n      <td>NaN</td>\n      <td>1</td>\n    </tr>\n    <tr>\n      <th>40014</th>\n      <td>654</td>\n      <td>Symptom_9</td>\n      <td>NaN</td>\n      <td>1</td>\n    </tr>\n    <tr>\n      <th>40015</th>\n      <td>655</td>\n      <td>Symptom_9</td>\n      <td>NaN</td>\n      <td>1</td>\n    </tr>\n    <tr>\n      <th>40016</th>\n      <td>656</td>\n      <td>Symptom_9</td>\n      <td>NaN</td>\n      <td>1</td>\n    </tr>\n    <tr>\n      <th>40017</th>\n      <td>657</td>\n      <td>Symptom_9</td>\n      <td>NaN</td>\n      <td>1</td>\n    </tr>\n    <tr>\n      <th>40018</th>\n      <td>658</td>\n      <td>Symptom_9</td>\n      <td>NaN</td>\n      <td>1</td>\n    </tr>\n    <tr>\n      <th>40019</th>\n      <td>659</td>\n      <td>Symptom_9</td>\n      <td>NaN</td>\n      <td>1</td>\n    </tr>\n    <tr>\n      <th>40020</th>\n      <td>660</td>\n      <td>Symptom_9</td>\n      <td>loss_of_appetite</td>\n      <td>1</td>\n    </tr>\n    <tr>\n      <th>40021</th>\n      <td>661</td>\n      <td>Symptom_9</td>\n      <td>loss_of_appetite</td>\n      <td>1</td>\n    </tr>\n    <tr>\n      <th>40022</th>\n      <td>662</td>\n      <td>Symptom_9</td>\n      <td>mild_fever</td>\n      <td>1</td>\n    </tr>\n    <tr>\n      <th>40023</th>\n      <td>663</td>\n      <td>Symptom_9</td>\n      <td>mild_fever</td>\n      <td>1</td>\n    </tr>\n    <tr>\n      <th>40024</th>\n      <td>664</td>\n      <td>Symptom_9</td>\n      <td>mild_fever</td>\n      <td>1</td>\n    </tr>\n    <tr>\n      <th>40025</th>\n      <td>665</td>\n      <td>Symptom_9</td>\n      <td>mild_fever</td>\n      <td>1</td>\n    </tr>\n    <tr>\n      <th>40026</th>\n      <td>666</td>\n      <td>Symptom_9</td>\n      <td>mild_fever</td>\n      <td>1</td>\n    </tr>\n    <tr>\n      <th>40027</th>\n      <td>667</td>\n      <td>Symptom_9</td>\n      <td>mild_fever</td>\n      <td>1</td>\n    </tr>\n    <tr>\n      <th>40028</th>\n      <td>668</td>\n      <td>Symptom_9</td>\n      <td>mild_fever</td>\n      <td>1</td>\n    </tr>\n    <tr>\n      <th>40029</th>\n      <td>669</td>\n      <td>Symptom_9</td>\n      <td>mild_fever</td>\n      <td>1</td>\n    </tr>\n    <tr>\n      <th>40030</th>\n      <td>670</td>\n      <td>Symptom_9</td>\n      <td>phlegm</td>\n      <td>1</td>\n    </tr>\n    <tr>\n      <th>40031</th>\n      <td>671</td>\n      <td>Symptom_9</td>\n      <td>phlegm</td>\n      <td>1</td>\n    </tr>\n    <tr>\n      <th>40032</th>\n      <td>672</td>\n      <td>Symptom_9</td>\n      <td>throat_irritation</td>\n      <td>1</td>\n    </tr>\n    <tr>\n      <th>40033</th>\n      <td>673</td>\n      <td>Symptom_9</td>\n      <td>throat_irritation</td>\n      <td>1</td>\n    </tr>\n    <tr>\n      <th>40034</th>\n      <td>674</td>\n      <td>Symptom_9</td>\n      <td>throat_irritation</td>\n      <td>1</td>\n    </tr>\n    <tr>\n      <th>40035</th>\n      <td>675</td>\n      <td>Symptom_9</td>\n      <td>throat_irritation</td>\n      <td>1</td>\n    </tr>\n    <tr>\n      <th>40036</th>\n      <td>676</td>\n      <td>Symptom_9</td>\n      <td>throat_irritation</td>\n      <td>1</td>\n    </tr>\n    <tr>\n      <th>40037</th>\n      <td>677</td>\n      <td>Symptom_9</td>\n      <td>throat_irritation</td>\n      <td>1</td>\n    </tr>\n    <tr>\n      <th>40038</th>\n      <td>678</td>\n      <td>Symptom_9</td>\n      <td>throat_irritation</td>\n      <td>1</td>\n    </tr>\n    <tr>\n      <th>40039</th>\n      <td>679</td>\n      <td>Symptom_9</td>\n      <td>throat_irritation</td>\n      <td>1</td>\n    </tr>\n    <tr>\n      <th>40040</th>\n      <td>680</td>\n      <td>Symptom_9</td>\n      <td>fast_heart_rate</td>\n      <td>1</td>\n    </tr>\n    <tr>\n      <th>40041</th>\n      <td>681</td>\n      <td>Symptom_9</td>\n      <td>chest_pain</td>\n      <td>1</td>\n    </tr>\n    <tr>\n      <th>40042</th>\n      <td>682</td>\n      <td>Symptom_9</td>\n      <td>chest_pain</td>\n      <td>1</td>\n    </tr>\n    <tr>\n      <th>40043</th>\n      <td>683</td>\n      <td>Symptom_9</td>\n      <td>fast_heart_rate</td>\n      <td>1</td>\n    </tr>\n    <tr>\n      <th>40044</th>\n      <td>684</td>\n      <td>Symptom_9</td>\n      <td>fast_heart_rate</td>\n      <td>1</td>\n    </tr>\n    <tr>\n      <th>40045</th>\n      <td>685</td>\n      <td>Symptom_9</td>\n      <td>fast_heart_rate</td>\n      <td>1</td>\n    </tr>\n    <tr>\n      <th>40046</th>\n      <td>686</td>\n      <td>Symptom_9</td>\n      <td>fast_heart_rate</td>\n      <td>1</td>\n    </tr>\n    <tr>\n      <th>40047</th>\n      <td>687</td>\n      <td>Symptom_9</td>\n      <td>fast_heart_rate</td>\n      <td>1</td>\n    </tr>\n    <tr>\n      <th>40048</th>\n      <td>688</td>\n      <td>Symptom_9</td>\n      <td>fast_heart_rate</td>\n      <td>1</td>\n    </tr>\n    <tr>\n      <th>40049</th>\n      <td>689</td>\n      <td>Symptom_9</td>\n      <td>fast_heart_rate</td>\n      <td>1</td>\n    </tr>\n  </tbody>\n</table>\n</div>"
     },
     "metadata": {}
    }
   ],
   "source": [
    "# Turns all columns in 'cols' to variable column.\n",
    "\n",
    "tmp = pd.melt(df.reset_index() ,id_vars = ['index'], value_vars = cols )\n",
    "tmp['add1'] = 1\n",
    "display(tmp[40000:40050])\n"
   ]
  },
  {
   "cell_type": "code",
   "execution_count": 26,
   "metadata": {
    "colab": {
     "base_uri": "https://localhost:8080/",
     "height": 900
    },
    "id": "ocFRuNEqdEUE",
    "outputId": "d0eb4b56-cb2f-4bf1-965a-7e69a73e5e96"
   },
   "outputs": [
    {
     "output_type": "display_data",
     "data": {
      "text/plain": "value           disease   abdominal_pain   abnormal_menstruation   acidity  \\\nindex                                                                        \n1      Fungal infection              0.0                     0.0       0.0   \n2      Fungal infection              0.0                     0.0       0.0   \n3      Fungal infection              0.0                     0.0       0.0   \n4      Fungal infection              0.0                     0.0       0.0   \n5      Fungal infection              0.0                     0.0       0.0   \n6      Fungal infection              0.0                     0.0       0.0   \n7      Fungal infection              0.0                     0.0       0.0   \n8      Fungal infection              0.0                     0.0       0.0   \n9      Fungal infection              0.0                     0.0       0.0   \n10              Allergy              0.0                     0.0       0.0   \n11              Allergy              0.0                     0.0       0.0   \n12              Allergy              0.0                     0.0       0.0   \n13              Allergy              0.0                     0.0       0.0   \n14              Allergy              0.0                     0.0       0.0   \n15              Allergy              0.0                     0.0       0.0   \n16              Allergy              0.0                     0.0       0.0   \n17              Allergy              0.0                     0.0       0.0   \n18              Allergy              0.0                     0.0       0.0   \n19              Allergy              0.0                     0.0       0.0   \n\nvalue   acute_liver_failure   altered_sensorium   anxiety   back_pain  \\\nindex                                                                   \n1                       0.0                 0.0       0.0         0.0   \n2                       0.0                 0.0       0.0         0.0   \n3                       0.0                 0.0       0.0         0.0   \n4                       0.0                 0.0       0.0         0.0   \n5                       0.0                 0.0       0.0         0.0   \n6                       0.0                 0.0       0.0         0.0   \n7                       0.0                 0.0       0.0         0.0   \n8                       0.0                 0.0       0.0         0.0   \n9                       0.0                 0.0       0.0         0.0   \n10                      0.0                 0.0       0.0         0.0   \n11                      0.0                 0.0       0.0         0.0   \n12                      0.0                 0.0       0.0         0.0   \n13                      0.0                 0.0       0.0         0.0   \n14                      0.0                 0.0       0.0         0.0   \n15                      0.0                 0.0       0.0         0.0   \n16                      0.0                 0.0       0.0         0.0   \n17                      0.0                 0.0       0.0         0.0   \n18                      0.0                 0.0       0.0         0.0   \n19                      0.0                 0.0       0.0         0.0   \n\nvalue   belly_pain   blackheads  ...   watering_from_eyes   weakness_in_limbs  \\\nindex                            ...                                            \n1              0.0          0.0  ...                  0.0                 0.0   \n2              0.0          0.0  ...                  0.0                 0.0   \n3              0.0          0.0  ...                  0.0                 0.0   \n4              0.0          0.0  ...                  0.0                 0.0   \n5              0.0          0.0  ...                  0.0                 0.0   \n6              0.0          0.0  ...                  0.0                 0.0   \n7              0.0          0.0  ...                  0.0                 0.0   \n8              0.0          0.0  ...                  0.0                 0.0   \n9              0.0          0.0  ...                  0.0                 0.0   \n10             0.0          0.0  ...                  1.0                 0.0   \n11             0.0          0.0  ...                  1.0                 0.0   \n12             0.0          0.0  ...                  1.0                 0.0   \n13             0.0          0.0  ...                  1.0                 0.0   \n14             0.0          0.0  ...                  0.0                 0.0   \n15             0.0          0.0  ...                  1.0                 0.0   \n16             0.0          0.0  ...                  1.0                 0.0   \n17             0.0          0.0  ...                  1.0                 0.0   \n18             0.0          0.0  ...                  0.0                 0.0   \n19             0.0          0.0  ...                  1.0                 0.0   \n\nvalue   weakness_of_one_body_side   weight_gain   weight_loss  \\\nindex                                                           \n1                             0.0           0.0           0.0   \n2                             0.0           0.0           0.0   \n3                             0.0           0.0           0.0   \n4                             0.0           0.0           0.0   \n5                             0.0           0.0           0.0   \n6                             0.0           0.0           0.0   \n7                             0.0           0.0           0.0   \n8                             0.0           0.0           0.0   \n9                             0.0           0.0           0.0   \n10                            0.0           0.0           0.0   \n11                            0.0           0.0           0.0   \n12                            0.0           0.0           0.0   \n13                            0.0           0.0           0.0   \n14                            0.0           0.0           0.0   \n15                            0.0           0.0           0.0   \n16                            0.0           0.0           0.0   \n17                            0.0           0.0           0.0   \n18                            0.0           0.0           0.0   \n19                            0.0           0.0           0.0   \n\nvalue   yellow_crust_ooze   yellow_urine   yellowing_of_eyes   yellowish_skin  \\\nindex                                                                           \n1                     0.0            0.0                 0.0              0.0   \n2                     0.0            0.0                 0.0              0.0   \n3                     0.0            0.0                 0.0              0.0   \n4                     0.0            0.0                 0.0              0.0   \n5                     0.0            0.0                 0.0              0.0   \n6                     0.0            0.0                 0.0              0.0   \n7                     0.0            0.0                 0.0              0.0   \n8                     0.0            0.0                 0.0              0.0   \n9                     0.0            0.0                 0.0              0.0   \n10                    0.0            0.0                 0.0              0.0   \n11                    0.0            0.0                 0.0              0.0   \n12                    0.0            0.0                 0.0              0.0   \n13                    0.0            0.0                 0.0              0.0   \n14                    0.0            0.0                 0.0              0.0   \n15                    0.0            0.0                 0.0              0.0   \n16                    0.0            0.0                 0.0              0.0   \n17                    0.0            0.0                 0.0              0.0   \n18                    0.0            0.0                 0.0              0.0   \n19                    0.0            0.0                 0.0              0.0   \n\nvalue  itching  \nindex           \n1          0.0  \n2          1.0  \n3          1.0  \n4          1.0  \n5          0.0  \n6          1.0  \n7          1.0  \n8          1.0  \n9          1.0  \n10         0.0  \n11         0.0  \n12         0.0  \n13         0.0  \n14         0.0  \n15         0.0  \n16         0.0  \n17         0.0  \n18         0.0  \n19         0.0  \n\n[19 rows x 132 columns]",
      "text/html": "<div>\n<style scoped>\n    .dataframe tbody tr th:only-of-type {\n        vertical-align: middle;\n    }\n\n    .dataframe tbody tr th {\n        vertical-align: top;\n    }\n\n    .dataframe thead th {\n        text-align: right;\n    }\n</style>\n<table border=\"1\" class=\"dataframe\">\n  <thead>\n    <tr style=\"text-align: right;\">\n      <th>value</th>\n      <th>disease</th>\n      <th>abdominal_pain</th>\n      <th>abnormal_menstruation</th>\n      <th>acidity</th>\n      <th>acute_liver_failure</th>\n      <th>altered_sensorium</th>\n      <th>anxiety</th>\n      <th>back_pain</th>\n      <th>belly_pain</th>\n      <th>blackheads</th>\n      <th>...</th>\n      <th>watering_from_eyes</th>\n      <th>weakness_in_limbs</th>\n      <th>weakness_of_one_body_side</th>\n      <th>weight_gain</th>\n      <th>weight_loss</th>\n      <th>yellow_crust_ooze</th>\n      <th>yellow_urine</th>\n      <th>yellowing_of_eyes</th>\n      <th>yellowish_skin</th>\n      <th>itching</th>\n    </tr>\n    <tr>\n      <th>index</th>\n      <th></th>\n      <th></th>\n      <th></th>\n      <th></th>\n      <th></th>\n      <th></th>\n      <th></th>\n      <th></th>\n      <th></th>\n      <th></th>\n      <th></th>\n      <th></th>\n      <th></th>\n      <th></th>\n      <th></th>\n      <th></th>\n      <th></th>\n      <th></th>\n      <th></th>\n      <th></th>\n      <th></th>\n    </tr>\n  </thead>\n  <tbody>\n    <tr>\n      <th>1</th>\n      <td>Fungal infection</td>\n      <td>0.0</td>\n      <td>0.0</td>\n      <td>0.0</td>\n      <td>0.0</td>\n      <td>0.0</td>\n      <td>0.0</td>\n      <td>0.0</td>\n      <td>0.0</td>\n      <td>0.0</td>\n      <td>...</td>\n      <td>0.0</td>\n      <td>0.0</td>\n      <td>0.0</td>\n      <td>0.0</td>\n      <td>0.0</td>\n      <td>0.0</td>\n      <td>0.0</td>\n      <td>0.0</td>\n      <td>0.0</td>\n      <td>0.0</td>\n    </tr>\n    <tr>\n      <th>2</th>\n      <td>Fungal infection</td>\n      <td>0.0</td>\n      <td>0.0</td>\n      <td>0.0</td>\n      <td>0.0</td>\n      <td>0.0</td>\n      <td>0.0</td>\n      <td>0.0</td>\n      <td>0.0</td>\n      <td>0.0</td>\n      <td>...</td>\n      <td>0.0</td>\n      <td>0.0</td>\n      <td>0.0</td>\n      <td>0.0</td>\n      <td>0.0</td>\n      <td>0.0</td>\n      <td>0.0</td>\n      <td>0.0</td>\n      <td>0.0</td>\n      <td>1.0</td>\n    </tr>\n    <tr>\n      <th>3</th>\n      <td>Fungal infection</td>\n      <td>0.0</td>\n      <td>0.0</td>\n      <td>0.0</td>\n      <td>0.0</td>\n      <td>0.0</td>\n      <td>0.0</td>\n      <td>0.0</td>\n      <td>0.0</td>\n      <td>0.0</td>\n      <td>...</td>\n      <td>0.0</td>\n      <td>0.0</td>\n      <td>0.0</td>\n      <td>0.0</td>\n      <td>0.0</td>\n      <td>0.0</td>\n      <td>0.0</td>\n      <td>0.0</td>\n      <td>0.0</td>\n      <td>1.0</td>\n    </tr>\n    <tr>\n      <th>4</th>\n      <td>Fungal infection</td>\n      <td>0.0</td>\n      <td>0.0</td>\n      <td>0.0</td>\n      <td>0.0</td>\n      <td>0.0</td>\n      <td>0.0</td>\n      <td>0.0</td>\n      <td>0.0</td>\n      <td>0.0</td>\n      <td>...</td>\n      <td>0.0</td>\n      <td>0.0</td>\n      <td>0.0</td>\n      <td>0.0</td>\n      <td>0.0</td>\n      <td>0.0</td>\n      <td>0.0</td>\n      <td>0.0</td>\n      <td>0.0</td>\n      <td>1.0</td>\n    </tr>\n    <tr>\n      <th>5</th>\n      <td>Fungal infection</td>\n      <td>0.0</td>\n      <td>0.0</td>\n      <td>0.0</td>\n      <td>0.0</td>\n      <td>0.0</td>\n      <td>0.0</td>\n      <td>0.0</td>\n      <td>0.0</td>\n      <td>0.0</td>\n      <td>...</td>\n      <td>0.0</td>\n      <td>0.0</td>\n      <td>0.0</td>\n      <td>0.0</td>\n      <td>0.0</td>\n      <td>0.0</td>\n      <td>0.0</td>\n      <td>0.0</td>\n      <td>0.0</td>\n      <td>0.0</td>\n    </tr>\n    <tr>\n      <th>6</th>\n      <td>Fungal infection</td>\n      <td>0.0</td>\n      <td>0.0</td>\n      <td>0.0</td>\n      <td>0.0</td>\n      <td>0.0</td>\n      <td>0.0</td>\n      <td>0.0</td>\n      <td>0.0</td>\n      <td>0.0</td>\n      <td>...</td>\n      <td>0.0</td>\n      <td>0.0</td>\n      <td>0.0</td>\n      <td>0.0</td>\n      <td>0.0</td>\n      <td>0.0</td>\n      <td>0.0</td>\n      <td>0.0</td>\n      <td>0.0</td>\n      <td>1.0</td>\n    </tr>\n    <tr>\n      <th>7</th>\n      <td>Fungal infection</td>\n      <td>0.0</td>\n      <td>0.0</td>\n      <td>0.0</td>\n      <td>0.0</td>\n      <td>0.0</td>\n      <td>0.0</td>\n      <td>0.0</td>\n      <td>0.0</td>\n      <td>0.0</td>\n      <td>...</td>\n      <td>0.0</td>\n      <td>0.0</td>\n      <td>0.0</td>\n      <td>0.0</td>\n      <td>0.0</td>\n      <td>0.0</td>\n      <td>0.0</td>\n      <td>0.0</td>\n      <td>0.0</td>\n      <td>1.0</td>\n    </tr>\n    <tr>\n      <th>8</th>\n      <td>Fungal infection</td>\n      <td>0.0</td>\n      <td>0.0</td>\n      <td>0.0</td>\n      <td>0.0</td>\n      <td>0.0</td>\n      <td>0.0</td>\n      <td>0.0</td>\n      <td>0.0</td>\n      <td>0.0</td>\n      <td>...</td>\n      <td>0.0</td>\n      <td>0.0</td>\n      <td>0.0</td>\n      <td>0.0</td>\n      <td>0.0</td>\n      <td>0.0</td>\n      <td>0.0</td>\n      <td>0.0</td>\n      <td>0.0</td>\n      <td>1.0</td>\n    </tr>\n    <tr>\n      <th>9</th>\n      <td>Fungal infection</td>\n      <td>0.0</td>\n      <td>0.0</td>\n      <td>0.0</td>\n      <td>0.0</td>\n      <td>0.0</td>\n      <td>0.0</td>\n      <td>0.0</td>\n      <td>0.0</td>\n      <td>0.0</td>\n      <td>...</td>\n      <td>0.0</td>\n      <td>0.0</td>\n      <td>0.0</td>\n      <td>0.0</td>\n      <td>0.0</td>\n      <td>0.0</td>\n      <td>0.0</td>\n      <td>0.0</td>\n      <td>0.0</td>\n      <td>1.0</td>\n    </tr>\n    <tr>\n      <th>10</th>\n      <td>Allergy</td>\n      <td>0.0</td>\n      <td>0.0</td>\n      <td>0.0</td>\n      <td>0.0</td>\n      <td>0.0</td>\n      <td>0.0</td>\n      <td>0.0</td>\n      <td>0.0</td>\n      <td>0.0</td>\n      <td>...</td>\n      <td>1.0</td>\n      <td>0.0</td>\n      <td>0.0</td>\n      <td>0.0</td>\n      <td>0.0</td>\n      <td>0.0</td>\n      <td>0.0</td>\n      <td>0.0</td>\n      <td>0.0</td>\n      <td>0.0</td>\n    </tr>\n    <tr>\n      <th>11</th>\n      <td>Allergy</td>\n      <td>0.0</td>\n      <td>0.0</td>\n      <td>0.0</td>\n      <td>0.0</td>\n      <td>0.0</td>\n      <td>0.0</td>\n      <td>0.0</td>\n      <td>0.0</td>\n      <td>0.0</td>\n      <td>...</td>\n      <td>1.0</td>\n      <td>0.0</td>\n      <td>0.0</td>\n      <td>0.0</td>\n      <td>0.0</td>\n      <td>0.0</td>\n      <td>0.0</td>\n      <td>0.0</td>\n      <td>0.0</td>\n      <td>0.0</td>\n    </tr>\n    <tr>\n      <th>12</th>\n      <td>Allergy</td>\n      <td>0.0</td>\n      <td>0.0</td>\n      <td>0.0</td>\n      <td>0.0</td>\n      <td>0.0</td>\n      <td>0.0</td>\n      <td>0.0</td>\n      <td>0.0</td>\n      <td>0.0</td>\n      <td>...</td>\n      <td>1.0</td>\n      <td>0.0</td>\n      <td>0.0</td>\n      <td>0.0</td>\n      <td>0.0</td>\n      <td>0.0</td>\n      <td>0.0</td>\n      <td>0.0</td>\n      <td>0.0</td>\n      <td>0.0</td>\n    </tr>\n    <tr>\n      <th>13</th>\n      <td>Allergy</td>\n      <td>0.0</td>\n      <td>0.0</td>\n      <td>0.0</td>\n      <td>0.0</td>\n      <td>0.0</td>\n      <td>0.0</td>\n      <td>0.0</td>\n      <td>0.0</td>\n      <td>0.0</td>\n      <td>...</td>\n      <td>1.0</td>\n      <td>0.0</td>\n      <td>0.0</td>\n      <td>0.0</td>\n      <td>0.0</td>\n      <td>0.0</td>\n      <td>0.0</td>\n      <td>0.0</td>\n      <td>0.0</td>\n      <td>0.0</td>\n    </tr>\n    <tr>\n      <th>14</th>\n      <td>Allergy</td>\n      <td>0.0</td>\n      <td>0.0</td>\n      <td>0.0</td>\n      <td>0.0</td>\n      <td>0.0</td>\n      <td>0.0</td>\n      <td>0.0</td>\n      <td>0.0</td>\n      <td>0.0</td>\n      <td>...</td>\n      <td>0.0</td>\n      <td>0.0</td>\n      <td>0.0</td>\n      <td>0.0</td>\n      <td>0.0</td>\n      <td>0.0</td>\n      <td>0.0</td>\n      <td>0.0</td>\n      <td>0.0</td>\n      <td>0.0</td>\n    </tr>\n    <tr>\n      <th>15</th>\n      <td>Allergy</td>\n      <td>0.0</td>\n      <td>0.0</td>\n      <td>0.0</td>\n      <td>0.0</td>\n      <td>0.0</td>\n      <td>0.0</td>\n      <td>0.0</td>\n      <td>0.0</td>\n      <td>0.0</td>\n      <td>...</td>\n      <td>1.0</td>\n      <td>0.0</td>\n      <td>0.0</td>\n      <td>0.0</td>\n      <td>0.0</td>\n      <td>0.0</td>\n      <td>0.0</td>\n      <td>0.0</td>\n      <td>0.0</td>\n      <td>0.0</td>\n    </tr>\n    <tr>\n      <th>16</th>\n      <td>Allergy</td>\n      <td>0.0</td>\n      <td>0.0</td>\n      <td>0.0</td>\n      <td>0.0</td>\n      <td>0.0</td>\n      <td>0.0</td>\n      <td>0.0</td>\n      <td>0.0</td>\n      <td>0.0</td>\n      <td>...</td>\n      <td>1.0</td>\n      <td>0.0</td>\n      <td>0.0</td>\n      <td>0.0</td>\n      <td>0.0</td>\n      <td>0.0</td>\n      <td>0.0</td>\n      <td>0.0</td>\n      <td>0.0</td>\n      <td>0.0</td>\n    </tr>\n    <tr>\n      <th>17</th>\n      <td>Allergy</td>\n      <td>0.0</td>\n      <td>0.0</td>\n      <td>0.0</td>\n      <td>0.0</td>\n      <td>0.0</td>\n      <td>0.0</td>\n      <td>0.0</td>\n      <td>0.0</td>\n      <td>0.0</td>\n      <td>...</td>\n      <td>1.0</td>\n      <td>0.0</td>\n      <td>0.0</td>\n      <td>0.0</td>\n      <td>0.0</td>\n      <td>0.0</td>\n      <td>0.0</td>\n      <td>0.0</td>\n      <td>0.0</td>\n      <td>0.0</td>\n    </tr>\n    <tr>\n      <th>18</th>\n      <td>Allergy</td>\n      <td>0.0</td>\n      <td>0.0</td>\n      <td>0.0</td>\n      <td>0.0</td>\n      <td>0.0</td>\n      <td>0.0</td>\n      <td>0.0</td>\n      <td>0.0</td>\n      <td>0.0</td>\n      <td>...</td>\n      <td>0.0</td>\n      <td>0.0</td>\n      <td>0.0</td>\n      <td>0.0</td>\n      <td>0.0</td>\n      <td>0.0</td>\n      <td>0.0</td>\n      <td>0.0</td>\n      <td>0.0</td>\n      <td>0.0</td>\n    </tr>\n    <tr>\n      <th>19</th>\n      <td>Allergy</td>\n      <td>0.0</td>\n      <td>0.0</td>\n      <td>0.0</td>\n      <td>0.0</td>\n      <td>0.0</td>\n      <td>0.0</td>\n      <td>0.0</td>\n      <td>0.0</td>\n      <td>0.0</td>\n      <td>...</td>\n      <td>1.0</td>\n      <td>0.0</td>\n      <td>0.0</td>\n      <td>0.0</td>\n      <td>0.0</td>\n      <td>0.0</td>\n      <td>0.0</td>\n      <td>0.0</td>\n      <td>0.0</td>\n      <td>0.0</td>\n    </tr>\n  </tbody>\n</table>\n<p>19 rows × 132 columns</p>\n</div>"
     },
     "metadata": {}
    }
   ],
   "source": [
    "# Pivot table\n",
    "diseases = pd.pivot_table(tmp, \n",
    "                          values = 'add1',\n",
    "                          index = 'index',\n",
    "                          columns = 'value')\n",
    "\n",
    "# Add labels column\n",
    "diseases.insert(0,'disease',df['Disease'])\n",
    "\n",
    "# Fill NaN with zero\n",
    "diseases = diseases.fillna(0)\n",
    "display(diseases[1:20])\n",
    "#len(diseases)\n"
   ]
  },
  {
   "cell_type": "markdown",
   "metadata": {
    "id": "AU041gFpdNNN"
   },
   "source": [
    "**Split train test**"
   ]
  },
  {
   "cell_type": "code",
   "execution_count": 27,
   "metadata": {
    "id": "leLFfKYpdEjw"
   },
   "outputs": [],
   "source": [
    "train = diseases.sample(frac = 0.75, random_state = 3)\n",
    "test = diseases.drop(index = train.index)\n",
    "\n",
    "x_train, y_train, x_test, y_test =  train.drop('disease', axis = 1), train['disease'], test.drop('disease', axis = 1), test['disease']"
   ]
  },
  {
   "cell_type": "code",
   "execution_count": 28,
   "metadata": {
    "colab": {
     "base_uri": "https://localhost:8080/",
     "height": 544
    },
    "id": "eEec4T5pdXdm",
    "outputId": "8999f1ff-96fe-494c-f93c-be7dfaad4bf3"
   },
   "outputs": [
    {
     "output_type": "display_data",
     "data": {
      "text/plain": "value                                  disease   abdominal_pain  \\\nindex                                                             \n1698                       Peptic ulcer diseae              1.0   \n796                    Urinary tract infection              0.0   \n676                                Common Cold              0.0   \n4890                                  Migraine              0.0   \n2537   (vertigo) Paroymsal  Positional Vertigo              0.0   \n...                                        ...              ...   \n4895                               Chicken pox              0.0   \n56                         Peptic ulcer diseae              1.0   \n3199                                   Allergy              0.0   \n844                                       GERD              0.0   \n2330              Dimorphic hemmorhoids(piles)              0.0   \n\nvalue   abnormal_menstruation   acidity   acute_liver_failure  \\\nindex                                                           \n1698                      0.0       0.0                   0.0   \n796                       0.0       0.0                   0.0   \n676                       0.0       0.0                   0.0   \n4890                      0.0       1.0                   0.0   \n2537                      0.0       0.0                   0.0   \n...                       ...       ...                   ...   \n4895                      0.0       0.0                   0.0   \n56                        0.0       0.0                   0.0   \n3199                      0.0       0.0                   0.0   \n844                       0.0       1.0                   0.0   \n2330                      0.0       0.0                   0.0   \n\nvalue   altered_sensorium   anxiety   back_pain   belly_pain   blackheads  \\\nindex                                                                       \n1698                  0.0       0.0         0.0          0.0          0.0   \n796                   0.0       0.0         0.0          0.0          0.0   \n676                   0.0       0.0         0.0          0.0          0.0   \n4890                  0.0       0.0         0.0          0.0          0.0   \n2537                  0.0       0.0         0.0          0.0          0.0   \n...                   ...       ...         ...          ...          ...   \n4895                  0.0       0.0         0.0          0.0          0.0   \n56                    0.0       0.0         0.0          0.0          0.0   \n3199                  0.0       0.0         0.0          0.0          0.0   \n844                   0.0       0.0         0.0          0.0          0.0   \n2330                  0.0       0.0         0.0          0.0          0.0   \n\nvalue  ...   watering_from_eyes   weakness_in_limbs  \\\nindex  ...                                            \n1698   ...                  0.0                 0.0   \n796    ...                  0.0                 0.0   \n676    ...                  0.0                 0.0   \n4890   ...                  0.0                 0.0   \n2537   ...                  0.0                 0.0   \n...    ...                  ...                 ...   \n4895   ...                  0.0                 0.0   \n56     ...                  0.0                 0.0   \n3199   ...                  1.0                 0.0   \n844    ...                  0.0                 0.0   \n2330   ...                  0.0                 0.0   \n\nvalue   weakness_of_one_body_side   weight_gain   weight_loss  \\\nindex                                                           \n1698                          0.0           0.0           0.0   \n796                           0.0           0.0           0.0   \n676                           0.0           0.0           0.0   \n4890                          0.0           0.0           0.0   \n2537                          0.0           0.0           0.0   \n...                           ...           ...           ...   \n4895                          0.0           0.0           0.0   \n56                            0.0           0.0           0.0   \n3199                          0.0           0.0           0.0   \n844                           0.0           0.0           0.0   \n2330                          0.0           0.0           0.0   \n\nvalue   yellow_crust_ooze   yellow_urine   yellowing_of_eyes   yellowish_skin  \\\nindex                                                                           \n1698                  0.0            0.0                 0.0              0.0   \n796                   0.0            0.0                 0.0              0.0   \n676                   0.0            0.0                 0.0              0.0   \n4890                  0.0            0.0                 0.0              0.0   \n2537                  0.0            0.0                 0.0              0.0   \n...                   ...            ...                 ...              ...   \n4895                  0.0            0.0                 0.0              0.0   \n56                    0.0            0.0                 0.0              0.0   \n3199                  0.0            0.0                 0.0              0.0   \n844                   0.0            0.0                 0.0              0.0   \n2330                  0.0            0.0                 0.0              0.0   \n\nvalue  itching  \nindex           \n1698       0.0  \n796        0.0  \n676        0.0  \n4890       0.0  \n2537       0.0  \n...        ...  \n4895       1.0  \n56         0.0  \n3199       0.0  \n844        0.0  \n2330       0.0  \n\n[3690 rows x 132 columns]",
      "text/html": "<div>\n<style scoped>\n    .dataframe tbody tr th:only-of-type {\n        vertical-align: middle;\n    }\n\n    .dataframe tbody tr th {\n        vertical-align: top;\n    }\n\n    .dataframe thead th {\n        text-align: right;\n    }\n</style>\n<table border=\"1\" class=\"dataframe\">\n  <thead>\n    <tr style=\"text-align: right;\">\n      <th>value</th>\n      <th>disease</th>\n      <th>abdominal_pain</th>\n      <th>abnormal_menstruation</th>\n      <th>acidity</th>\n      <th>acute_liver_failure</th>\n      <th>altered_sensorium</th>\n      <th>anxiety</th>\n      <th>back_pain</th>\n      <th>belly_pain</th>\n      <th>blackheads</th>\n      <th>...</th>\n      <th>watering_from_eyes</th>\n      <th>weakness_in_limbs</th>\n      <th>weakness_of_one_body_side</th>\n      <th>weight_gain</th>\n      <th>weight_loss</th>\n      <th>yellow_crust_ooze</th>\n      <th>yellow_urine</th>\n      <th>yellowing_of_eyes</th>\n      <th>yellowish_skin</th>\n      <th>itching</th>\n    </tr>\n    <tr>\n      <th>index</th>\n      <th></th>\n      <th></th>\n      <th></th>\n      <th></th>\n      <th></th>\n      <th></th>\n      <th></th>\n      <th></th>\n      <th></th>\n      <th></th>\n      <th></th>\n      <th></th>\n      <th></th>\n      <th></th>\n      <th></th>\n      <th></th>\n      <th></th>\n      <th></th>\n      <th></th>\n      <th></th>\n      <th></th>\n    </tr>\n  </thead>\n  <tbody>\n    <tr>\n      <th>1698</th>\n      <td>Peptic ulcer diseae</td>\n      <td>1.0</td>\n      <td>0.0</td>\n      <td>0.0</td>\n      <td>0.0</td>\n      <td>0.0</td>\n      <td>0.0</td>\n      <td>0.0</td>\n      <td>0.0</td>\n      <td>0.0</td>\n      <td>...</td>\n      <td>0.0</td>\n      <td>0.0</td>\n      <td>0.0</td>\n      <td>0.0</td>\n      <td>0.0</td>\n      <td>0.0</td>\n      <td>0.0</td>\n      <td>0.0</td>\n      <td>0.0</td>\n      <td>0.0</td>\n    </tr>\n    <tr>\n      <th>796</th>\n      <td>Urinary tract infection</td>\n      <td>0.0</td>\n      <td>0.0</td>\n      <td>0.0</td>\n      <td>0.0</td>\n      <td>0.0</td>\n      <td>0.0</td>\n      <td>0.0</td>\n      <td>0.0</td>\n      <td>0.0</td>\n      <td>...</td>\n      <td>0.0</td>\n      <td>0.0</td>\n      <td>0.0</td>\n      <td>0.0</td>\n      <td>0.0</td>\n      <td>0.0</td>\n      <td>0.0</td>\n      <td>0.0</td>\n      <td>0.0</td>\n      <td>0.0</td>\n    </tr>\n    <tr>\n      <th>676</th>\n      <td>Common Cold</td>\n      <td>0.0</td>\n      <td>0.0</td>\n      <td>0.0</td>\n      <td>0.0</td>\n      <td>0.0</td>\n      <td>0.0</td>\n      <td>0.0</td>\n      <td>0.0</td>\n      <td>0.0</td>\n      <td>...</td>\n      <td>0.0</td>\n      <td>0.0</td>\n      <td>0.0</td>\n      <td>0.0</td>\n      <td>0.0</td>\n      <td>0.0</td>\n      <td>0.0</td>\n      <td>0.0</td>\n      <td>0.0</td>\n      <td>0.0</td>\n    </tr>\n    <tr>\n      <th>4890</th>\n      <td>Migraine</td>\n      <td>0.0</td>\n      <td>0.0</td>\n      <td>1.0</td>\n      <td>0.0</td>\n      <td>0.0</td>\n      <td>0.0</td>\n      <td>0.0</td>\n      <td>0.0</td>\n      <td>0.0</td>\n      <td>...</td>\n      <td>0.0</td>\n      <td>0.0</td>\n      <td>0.0</td>\n      <td>0.0</td>\n      <td>0.0</td>\n      <td>0.0</td>\n      <td>0.0</td>\n      <td>0.0</td>\n      <td>0.0</td>\n      <td>0.0</td>\n    </tr>\n    <tr>\n      <th>2537</th>\n      <td>(vertigo) Paroymsal  Positional Vertigo</td>\n      <td>0.0</td>\n      <td>0.0</td>\n      <td>0.0</td>\n      <td>0.0</td>\n      <td>0.0</td>\n      <td>0.0</td>\n      <td>0.0</td>\n      <td>0.0</td>\n      <td>0.0</td>\n      <td>...</td>\n      <td>0.0</td>\n      <td>0.0</td>\n      <td>0.0</td>\n      <td>0.0</td>\n      <td>0.0</td>\n      <td>0.0</td>\n      <td>0.0</td>\n      <td>0.0</td>\n      <td>0.0</td>\n      <td>0.0</td>\n    </tr>\n    <tr>\n      <th>...</th>\n      <td>...</td>\n      <td>...</td>\n      <td>...</td>\n      <td>...</td>\n      <td>...</td>\n      <td>...</td>\n      <td>...</td>\n      <td>...</td>\n      <td>...</td>\n      <td>...</td>\n      <td>...</td>\n      <td>...</td>\n      <td>...</td>\n      <td>...</td>\n      <td>...</td>\n      <td>...</td>\n      <td>...</td>\n      <td>...</td>\n      <td>...</td>\n      <td>...</td>\n      <td>...</td>\n    </tr>\n    <tr>\n      <th>4895</th>\n      <td>Chicken pox</td>\n      <td>0.0</td>\n      <td>0.0</td>\n      <td>0.0</td>\n      <td>0.0</td>\n      <td>0.0</td>\n      <td>0.0</td>\n      <td>0.0</td>\n      <td>0.0</td>\n      <td>0.0</td>\n      <td>...</td>\n      <td>0.0</td>\n      <td>0.0</td>\n      <td>0.0</td>\n      <td>0.0</td>\n      <td>0.0</td>\n      <td>0.0</td>\n      <td>0.0</td>\n      <td>0.0</td>\n      <td>0.0</td>\n      <td>1.0</td>\n    </tr>\n    <tr>\n      <th>56</th>\n      <td>Peptic ulcer diseae</td>\n      <td>1.0</td>\n      <td>0.0</td>\n      <td>0.0</td>\n      <td>0.0</td>\n      <td>0.0</td>\n      <td>0.0</td>\n      <td>0.0</td>\n      <td>0.0</td>\n      <td>0.0</td>\n      <td>...</td>\n      <td>0.0</td>\n      <td>0.0</td>\n      <td>0.0</td>\n      <td>0.0</td>\n      <td>0.0</td>\n      <td>0.0</td>\n      <td>0.0</td>\n      <td>0.0</td>\n      <td>0.0</td>\n      <td>0.0</td>\n    </tr>\n    <tr>\n      <th>3199</th>\n      <td>Allergy</td>\n      <td>0.0</td>\n      <td>0.0</td>\n      <td>0.0</td>\n      <td>0.0</td>\n      <td>0.0</td>\n      <td>0.0</td>\n      <td>0.0</td>\n      <td>0.0</td>\n      <td>0.0</td>\n      <td>...</td>\n      <td>1.0</td>\n      <td>0.0</td>\n      <td>0.0</td>\n      <td>0.0</td>\n      <td>0.0</td>\n      <td>0.0</td>\n      <td>0.0</td>\n      <td>0.0</td>\n      <td>0.0</td>\n      <td>0.0</td>\n    </tr>\n    <tr>\n      <th>844</th>\n      <td>GERD</td>\n      <td>0.0</td>\n      <td>0.0</td>\n      <td>1.0</td>\n      <td>0.0</td>\n      <td>0.0</td>\n      <td>0.0</td>\n      <td>0.0</td>\n      <td>0.0</td>\n      <td>0.0</td>\n      <td>...</td>\n      <td>0.0</td>\n      <td>0.0</td>\n      <td>0.0</td>\n      <td>0.0</td>\n      <td>0.0</td>\n      <td>0.0</td>\n      <td>0.0</td>\n      <td>0.0</td>\n      <td>0.0</td>\n      <td>0.0</td>\n    </tr>\n    <tr>\n      <th>2330</th>\n      <td>Dimorphic hemmorhoids(piles)</td>\n      <td>0.0</td>\n      <td>0.0</td>\n      <td>0.0</td>\n      <td>0.0</td>\n      <td>0.0</td>\n      <td>0.0</td>\n      <td>0.0</td>\n      <td>0.0</td>\n      <td>0.0</td>\n      <td>...</td>\n      <td>0.0</td>\n      <td>0.0</td>\n      <td>0.0</td>\n      <td>0.0</td>\n      <td>0.0</td>\n      <td>0.0</td>\n      <td>0.0</td>\n      <td>0.0</td>\n      <td>0.0</td>\n      <td>0.0</td>\n    </tr>\n  </tbody>\n</table>\n<p>3690 rows × 132 columns</p>\n</div>"
     },
     "metadata": {}
    }
   ],
   "source": [
    "display(train)"
   ]
  },
  {
   "cell_type": "code",
   "execution_count": 29,
   "metadata": {
    "colab": {
     "base_uri": "https://localhost:8080/",
     "height": 510
    },
    "id": "UIIupzjTda17",
    "outputId": "72b4a3a5-b3fa-4ae8-a5dc-ac049a0028c8"
   },
   "outputs": [
    {
     "output_type": "display_data",
     "data": {
      "text/plain": "value                       disease   abdominal_pain   abnormal_menstruation  \\\nindex                                                                          \n1                  Fungal infection              0.0                     0.0   \n7                  Fungal infection              0.0                     0.0   \n13                          Allergy              0.0                     0.0   \n14                          Allergy              0.0                     0.0   \n15                          Allergy              0.0                     0.0   \n...                             ...              ...                     ...   \n4884            Peptic ulcer diseae              1.0                     0.0   \n4896                         Dengue              0.0                     0.0   \n4907   Dimorphic hemmorhoids(piles)              0.0                     0.0   \n4908                   Heart attack              0.0                     0.0   \n4910                 Hypothyroidism              0.0                     1.0   \n\nvalue   acidity   acute_liver_failure   altered_sensorium   anxiety  \\\nindex                                                                 \n1           0.0                   0.0                 0.0       0.0   \n7           0.0                   0.0                 0.0       0.0   \n13          0.0                   0.0                 0.0       0.0   \n14          0.0                   0.0                 0.0       0.0   \n15          0.0                   0.0                 0.0       0.0   \n...         ...                   ...                 ...       ...   \n4884        0.0                   0.0                 0.0       0.0   \n4896        0.0                   0.0                 0.0       0.0   \n4907        0.0                   0.0                 0.0       0.0   \n4908        0.0                   0.0                 0.0       0.0   \n4910        0.0                   0.0                 0.0       0.0   \n\nvalue   back_pain   belly_pain   blackheads  ...   watering_from_eyes  \\\nindex                                        ...                        \n1             0.0          0.0          0.0  ...                  0.0   \n7             0.0          0.0          0.0  ...                  0.0   \n13            0.0          0.0          0.0  ...                  1.0   \n14            0.0          0.0          0.0  ...                  0.0   \n15            0.0          0.0          0.0  ...                  1.0   \n...           ...          ...          ...  ...                  ...   \n4884          0.0          0.0          0.0  ...                  0.0   \n4896          1.0          0.0          0.0  ...                  0.0   \n4907          0.0          0.0          0.0  ...                  0.0   \n4908          0.0          0.0          0.0  ...                  0.0   \n4910          0.0          0.0          0.0  ...                  0.0   \n\nvalue   weakness_in_limbs   weakness_of_one_body_side   weight_gain  \\\nindex                                                                 \n1                     0.0                         0.0           0.0   \n7                     0.0                         0.0           0.0   \n13                    0.0                         0.0           0.0   \n14                    0.0                         0.0           0.0   \n15                    0.0                         0.0           0.0   \n...                   ...                         ...           ...   \n4884                  0.0                         0.0           0.0   \n4896                  0.0                         0.0           0.0   \n4907                  0.0                         0.0           0.0   \n4908                  0.0                         0.0           0.0   \n4910                  0.0                         0.0           1.0   \n\nvalue   weight_loss   yellow_crust_ooze   yellow_urine   yellowing_of_eyes  \\\nindex                                                                        \n1               0.0                 0.0            0.0                 0.0   \n7               0.0                 0.0            0.0                 0.0   \n13              0.0                 0.0            0.0                 0.0   \n14              0.0                 0.0            0.0                 0.0   \n15              0.0                 0.0            0.0                 0.0   \n...             ...                 ...            ...                 ...   \n4884            0.0                 0.0            0.0                 0.0   \n4896            0.0                 0.0            0.0                 0.0   \n4907            0.0                 0.0            0.0                 0.0   \n4908            0.0                 0.0            0.0                 0.0   \n4910            0.0                 0.0            0.0                 0.0   \n\nvalue   yellowish_skin  itching  \nindex                            \n1                  0.0      0.0  \n7                  0.0      1.0  \n13                 0.0      0.0  \n14                 0.0      0.0  \n15                 0.0      0.0  \n...                ...      ...  \n4884               0.0      0.0  \n4896               0.0      0.0  \n4907               0.0      0.0  \n4908               0.0      0.0  \n4910               0.0      0.0  \n\n[1230 rows x 132 columns]",
      "text/html": "<div>\n<style scoped>\n    .dataframe tbody tr th:only-of-type {\n        vertical-align: middle;\n    }\n\n    .dataframe tbody tr th {\n        vertical-align: top;\n    }\n\n    .dataframe thead th {\n        text-align: right;\n    }\n</style>\n<table border=\"1\" class=\"dataframe\">\n  <thead>\n    <tr style=\"text-align: right;\">\n      <th>value</th>\n      <th>disease</th>\n      <th>abdominal_pain</th>\n      <th>abnormal_menstruation</th>\n      <th>acidity</th>\n      <th>acute_liver_failure</th>\n      <th>altered_sensorium</th>\n      <th>anxiety</th>\n      <th>back_pain</th>\n      <th>belly_pain</th>\n      <th>blackheads</th>\n      <th>...</th>\n      <th>watering_from_eyes</th>\n      <th>weakness_in_limbs</th>\n      <th>weakness_of_one_body_side</th>\n      <th>weight_gain</th>\n      <th>weight_loss</th>\n      <th>yellow_crust_ooze</th>\n      <th>yellow_urine</th>\n      <th>yellowing_of_eyes</th>\n      <th>yellowish_skin</th>\n      <th>itching</th>\n    </tr>\n    <tr>\n      <th>index</th>\n      <th></th>\n      <th></th>\n      <th></th>\n      <th></th>\n      <th></th>\n      <th></th>\n      <th></th>\n      <th></th>\n      <th></th>\n      <th></th>\n      <th></th>\n      <th></th>\n      <th></th>\n      <th></th>\n      <th></th>\n      <th></th>\n      <th></th>\n      <th></th>\n      <th></th>\n      <th></th>\n      <th></th>\n    </tr>\n  </thead>\n  <tbody>\n    <tr>\n      <th>1</th>\n      <td>Fungal infection</td>\n      <td>0.0</td>\n      <td>0.0</td>\n      <td>0.0</td>\n      <td>0.0</td>\n      <td>0.0</td>\n      <td>0.0</td>\n      <td>0.0</td>\n      <td>0.0</td>\n      <td>0.0</td>\n      <td>...</td>\n      <td>0.0</td>\n      <td>0.0</td>\n      <td>0.0</td>\n      <td>0.0</td>\n      <td>0.0</td>\n      <td>0.0</td>\n      <td>0.0</td>\n      <td>0.0</td>\n      <td>0.0</td>\n      <td>0.0</td>\n    </tr>\n    <tr>\n      <th>7</th>\n      <td>Fungal infection</td>\n      <td>0.0</td>\n      <td>0.0</td>\n      <td>0.0</td>\n      <td>0.0</td>\n      <td>0.0</td>\n      <td>0.0</td>\n      <td>0.0</td>\n      <td>0.0</td>\n      <td>0.0</td>\n      <td>...</td>\n      <td>0.0</td>\n      <td>0.0</td>\n      <td>0.0</td>\n      <td>0.0</td>\n      <td>0.0</td>\n      <td>0.0</td>\n      <td>0.0</td>\n      <td>0.0</td>\n      <td>0.0</td>\n      <td>1.0</td>\n    </tr>\n    <tr>\n      <th>13</th>\n      <td>Allergy</td>\n      <td>0.0</td>\n      <td>0.0</td>\n      <td>0.0</td>\n      <td>0.0</td>\n      <td>0.0</td>\n      <td>0.0</td>\n      <td>0.0</td>\n      <td>0.0</td>\n      <td>0.0</td>\n      <td>...</td>\n      <td>1.0</td>\n      <td>0.0</td>\n      <td>0.0</td>\n      <td>0.0</td>\n      <td>0.0</td>\n      <td>0.0</td>\n      <td>0.0</td>\n      <td>0.0</td>\n      <td>0.0</td>\n      <td>0.0</td>\n    </tr>\n    <tr>\n      <th>14</th>\n      <td>Allergy</td>\n      <td>0.0</td>\n      <td>0.0</td>\n      <td>0.0</td>\n      <td>0.0</td>\n      <td>0.0</td>\n      <td>0.0</td>\n      <td>0.0</td>\n      <td>0.0</td>\n      <td>0.0</td>\n      <td>...</td>\n      <td>0.0</td>\n      <td>0.0</td>\n      <td>0.0</td>\n      <td>0.0</td>\n      <td>0.0</td>\n      <td>0.0</td>\n      <td>0.0</td>\n      <td>0.0</td>\n      <td>0.0</td>\n      <td>0.0</td>\n    </tr>\n    <tr>\n      <th>15</th>\n      <td>Allergy</td>\n      <td>0.0</td>\n      <td>0.0</td>\n      <td>0.0</td>\n      <td>0.0</td>\n      <td>0.0</td>\n      <td>0.0</td>\n      <td>0.0</td>\n      <td>0.0</td>\n      <td>0.0</td>\n      <td>...</td>\n      <td>1.0</td>\n      <td>0.0</td>\n      <td>0.0</td>\n      <td>0.0</td>\n      <td>0.0</td>\n      <td>0.0</td>\n      <td>0.0</td>\n      <td>0.0</td>\n      <td>0.0</td>\n      <td>0.0</td>\n    </tr>\n    <tr>\n      <th>...</th>\n      <td>...</td>\n      <td>...</td>\n      <td>...</td>\n      <td>...</td>\n      <td>...</td>\n      <td>...</td>\n      <td>...</td>\n      <td>...</td>\n      <td>...</td>\n      <td>...</td>\n      <td>...</td>\n      <td>...</td>\n      <td>...</td>\n      <td>...</td>\n      <td>...</td>\n      <td>...</td>\n      <td>...</td>\n      <td>...</td>\n      <td>...</td>\n      <td>...</td>\n      <td>...</td>\n    </tr>\n    <tr>\n      <th>4884</th>\n      <td>Peptic ulcer diseae</td>\n      <td>1.0</td>\n      <td>0.0</td>\n      <td>0.0</td>\n      <td>0.0</td>\n      <td>0.0</td>\n      <td>0.0</td>\n      <td>0.0</td>\n      <td>0.0</td>\n      <td>0.0</td>\n      <td>...</td>\n      <td>0.0</td>\n      <td>0.0</td>\n      <td>0.0</td>\n      <td>0.0</td>\n      <td>0.0</td>\n      <td>0.0</td>\n      <td>0.0</td>\n      <td>0.0</td>\n      <td>0.0</td>\n      <td>0.0</td>\n    </tr>\n    <tr>\n      <th>4896</th>\n      <td>Dengue</td>\n      <td>0.0</td>\n      <td>0.0</td>\n      <td>0.0</td>\n      <td>0.0</td>\n      <td>0.0</td>\n      <td>0.0</td>\n      <td>1.0</td>\n      <td>0.0</td>\n      <td>0.0</td>\n      <td>...</td>\n      <td>0.0</td>\n      <td>0.0</td>\n      <td>0.0</td>\n      <td>0.0</td>\n      <td>0.0</td>\n      <td>0.0</td>\n      <td>0.0</td>\n      <td>0.0</td>\n      <td>0.0</td>\n      <td>0.0</td>\n    </tr>\n    <tr>\n      <th>4907</th>\n      <td>Dimorphic hemmorhoids(piles)</td>\n      <td>0.0</td>\n      <td>0.0</td>\n      <td>0.0</td>\n      <td>0.0</td>\n      <td>0.0</td>\n      <td>0.0</td>\n      <td>0.0</td>\n      <td>0.0</td>\n      <td>0.0</td>\n      <td>...</td>\n      <td>0.0</td>\n      <td>0.0</td>\n      <td>0.0</td>\n      <td>0.0</td>\n      <td>0.0</td>\n      <td>0.0</td>\n      <td>0.0</td>\n      <td>0.0</td>\n      <td>0.0</td>\n      <td>0.0</td>\n    </tr>\n    <tr>\n      <th>4908</th>\n      <td>Heart attack</td>\n      <td>0.0</td>\n      <td>0.0</td>\n      <td>0.0</td>\n      <td>0.0</td>\n      <td>0.0</td>\n      <td>0.0</td>\n      <td>0.0</td>\n      <td>0.0</td>\n      <td>0.0</td>\n      <td>...</td>\n      <td>0.0</td>\n      <td>0.0</td>\n      <td>0.0</td>\n      <td>0.0</td>\n      <td>0.0</td>\n      <td>0.0</td>\n      <td>0.0</td>\n      <td>0.0</td>\n      <td>0.0</td>\n      <td>0.0</td>\n    </tr>\n    <tr>\n      <th>4910</th>\n      <td>Hypothyroidism</td>\n      <td>0.0</td>\n      <td>1.0</td>\n      <td>0.0</td>\n      <td>0.0</td>\n      <td>0.0</td>\n      <td>0.0</td>\n      <td>0.0</td>\n      <td>0.0</td>\n      <td>0.0</td>\n      <td>...</td>\n      <td>0.0</td>\n      <td>0.0</td>\n      <td>0.0</td>\n      <td>1.0</td>\n      <td>0.0</td>\n      <td>0.0</td>\n      <td>0.0</td>\n      <td>0.0</td>\n      <td>0.0</td>\n      <td>0.0</td>\n    </tr>\n  </tbody>\n</table>\n<p>1230 rows × 132 columns</p>\n</div>"
     },
     "metadata": {}
    }
   ],
   "source": [
    "display(test)"
   ]
  },
  {
   "cell_type": "markdown",
   "metadata": {
    "id": "Mr82EiU4dgvh"
   },
   "source": [
    "**RandomForestClassifier**\n",
    "\n"
   ]
  },
  {
   "cell_type": "code",
   "execution_count": 30,
   "metadata": {
    "colab": {
     "base_uri": "https://localhost:8080/"
    },
    "id": "McIwXddCdfl8",
    "outputId": "94d0f9aa-dbb0-4a60-ab33-484e6de14202"
   },
   "outputs": [
    {
     "output_type": "execute_result",
     "data": {
      "text/plain": [
       "RandomForestClassifier()"
      ]
     },
     "metadata": {},
     "execution_count": 30
    }
   ],
   "source": [
    "#Fitting \n",
    "rfc = RandomForestClassifier()\n",
    "rfc.fit(x_train, y_train)\n"
   ]
  },
  {
   "cell_type": "code",
   "execution_count": 32,
   "metadata": {
    "colab": {
     "base_uri": "https://localhost:8080/"
    },
    "id": "mV4PA_E5dfrZ",
    "outputId": "d2ccc7c7-570c-4728-9915-2e7c18904bff"
   },
   "outputs": [
    {
     "output_type": "execute_result",
     "data": {
      "text/plain": [
       "array(['Peptic ulcer diseae'], dtype=object)"
      ]
     },
     "metadata": {},
     "execution_count": 32
    }
   ],
   "source": [
    "#Testing\n",
    "res = rfc.predict(x_test)\n",
    "\n",
    "# sparse matrix used to input data for prediction\n",
    "input_table = x_test.iloc[1:2]\n",
    "for col in input_table.columns:\n",
    "  input_table[col].values[:] = 0.0\n",
    "\n",
    "\n",
    "#clear input table\n",
    "def clear_input():\n",
    "  for col in input_table.columns:\n",
    "    input_table[col].values[:] = 0.0\n",
    "\n",
    "#takes list of symptoms and enters into the input table\n",
    "def input_symptoms(symptoms):\n",
    "  clear_input()\n",
    "  for symptom in symptoms:\n",
    "    symptom_fixed = \" \"+symptom\n",
    "    if symptom_fixed in input_table.columns:\n",
    "      input_table[symptom_fixed].values[:] = 1.0\n",
    "\n",
    "\n",
    "\n",
    "input_symptoms([\"abdominal_pain\"])\n",
    "rfc.predict(input_table)"
   ]
  },
  {
   "cell_type": "markdown",
   "metadata": {
    "id": "7ServL4GPD-a"
   },
   "source": [
    "## Pickle model and data to be used externally"
   ]
  },
  {
   "cell_type": "code",
   "execution_count": 17,
   "metadata": {
    "id": "4sgKdEaCPBmq"
   },
   "outputs": [
    {
     "output_type": "execute_result",
     "data": {
      "text/plain": [
       "['disease_prediction_model.pkl']"
      ]
     },
     "metadata": {},
     "execution_count": 17
    }
   ],
   "source": [
    "# Pickl model and data\n",
    "\n",
    "joblib.dump({'model':rfc, 'x_train':x_train}, 'disease_prediction_model.pkl')\n",
    "\n"
   ]
  },
  {
   "cell_type": "code",
   "execution_count": null,
   "metadata": {},
   "outputs": [],
   "source": []
  }
 ],
 "metadata": {
  "colab": {
   "collapsed_sections": [],
   "name": "predict.ipynb",
   "provenance": [],
   "toc_visible": true
  },
  "kernelspec": {
   "name": "python385jvsc74a57bd080ff7f9198679020094942fbe152bd8ac4a05c9bcfbec57739a8e24cdd57bf5e",
   "display_name": "Python 3.8.5 64-bit ('base': conda)"
  },
  "language_info": {
   "codemirror_mode": {
    "name": "ipython",
    "version": 3
   },
   "file_extension": ".py",
   "mimetype": "text/x-python",
   "name": "python",
   "nbconvert_exporter": "python",
   "pygments_lexer": "ipython3",
   "version": "3.8.5"
  }
 },
 "nbformat": 4,
 "nbformat_minor": 1
}